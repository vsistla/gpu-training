{
 "cells": [
  {
   "cell_type": "markdown",
   "metadata": {},
   "source": [
    "## This is the original file from minGPT - but have added sections to specifically discuss about GPU training aspects and some of the challenges. gptMin code base is used as back drop in doing this demo\n",
    "\n",
    "## This is the original repo - https://github.com/karpathy/minGPT"
   ]
  },
  {
   "cell_type": "markdown",
   "metadata": {},
   "source": [
    "## Train a character-level GPT on some text data\n",
    "\n",
    "The inputs here are simple text files, which we chop up to individual characters and then train GPT on. So you could say this is a char-transformer instead of a char-rnn. Doesn't quite roll off the tongue as well. In this example we will feed it some Shakespeare, which we'll get it to predict character-level."
   ]
  },
  {
   "cell_type": "code",
   "execution_count": 1,
   "metadata": {},
   "outputs": [],
   "source": [
    "# set up logging\n",
    "import logging\n",
    "logging.basicConfig(\n",
    "        format=\"%(asctime)s - %(levelname)s - %(name)s -   %(message)s\",\n",
    "        datefmt=\"%m/%d/%Y %H:%M:%S\",\n",
    "        level=logging.INFO,\n",
    ")"
   ]
  },
  {
   "cell_type": "code",
   "execution_count": 2,
   "metadata": {},
   "outputs": [],
   "source": [
    "# make deterministic\n",
    "from mingpt.utils import set_seed\n",
    "set_seed(42)"
   ]
  },
  {
   "cell_type": "code",
   "execution_count": 3,
   "metadata": {},
   "outputs": [],
   "source": [
    "import numpy as np\n",
    "import torch\n",
    "import torch.nn as nn\n",
    "from torch.nn import functional as F"
   ]
  },
  {
   "cell_type": "code",
   "execution_count": 4,
   "metadata": {},
   "outputs": [],
   "source": [
    "import math\n",
    "from torch.utils.data import Dataset\n",
    "\n",
    "class CharDataset(Dataset):\n",
    "\n",
    "    def __init__(self, data, block_size):\n",
    "        chars = sorted(list(set(data)))\n",
    "        data_size, vocab_size = len(data), len(chars)\n",
    "        print('data has %d characters, %d unique.' % (data_size, vocab_size))\n",
    "        \n",
    "        self.stoi = { ch:i for i,ch in enumerate(chars) }\n",
    "        self.itos = { i:ch for i,ch in enumerate(chars) }\n",
    "        self.block_size = block_size\n",
    "        self.vocab_size = vocab_size\n",
    "        self.data = data\n",
    "    \n",
    "    def __len__(self):\n",
    "        return len(self.data) - self.block_size\n",
    "\n",
    "    def __getitem__(self, idx):\n",
    "        # grab a chunk of (block_size + 1) characters from the data\n",
    "        chunk = self.data[idx:idx + self.block_size + 1]\n",
    "        # encode every character to an integer\n",
    "        dix = [self.stoi[s] for s in chunk]\n",
    "        \"\"\"\n",
    "        arrange data and targets so that the first i elements of x\n",
    "        will be asked to predict the i-th element of y. Notice that\n",
    "        the eventual language model will actually make block_size\n",
    "        individual predictions at the same time based on this data,\n",
    "        so we are being clever and amortizing the cost of the forward\n",
    "        pass of the network. So for example if block_size is 4, then\n",
    "        we could e.g. sample a chunk of text \"hello\", the integers in\n",
    "        x will correspond to \"hell\" and in y will be \"ello\". This will\n",
    "        then actually \"multitask\" 4 separate examples at the same time\n",
    "        in the language model:\n",
    "        - given just \"h\", please predict \"e\" as next\n",
    "        - given \"he\" please predict \"l\" next\n",
    "        - given \"hel\" predict \"l\" next\n",
    "        - given \"hell\" predict \"o\" next\n",
    "        \n",
    "        In addition, because the DataLoader will create batches of examples,\n",
    "        every forward/backward pass during traning will simultaneously train\n",
    "        a LOT of predictions, amortizing a lot of computation. In particular,\n",
    "        for a batched input of integers X (B, T) where B is batch size and\n",
    "        T is block_size and Y (B, T), the network will during training be\n",
    "        simultaneously training to make B*T predictions, all at once! Of course,\n",
    "        at test time we can paralellize across batch B, but unlike during training\n",
    "        we cannot parallelize across the time dimension T - we have to run\n",
    "        a forward pass of the network to recover the next single character of the \n",
    "        sequence along each batch dimension, and repeatedly always feed in a next\n",
    "        character to get the next one.\n",
    "        \n",
    "        So yes there is a big asymmetry between train/test time of autoregressive\n",
    "        models. During training we can go B*T at a time with every forward pass,\n",
    "        but during test time we can only go B at a time, T times, with T forward \n",
    "        passes.\n",
    "        \"\"\"\n",
    "        x = torch.tensor(dix[:-1], dtype=torch.long)\n",
    "        y = torch.tensor(dix[1:], dtype=torch.long)\n",
    "        return x, y\n"
   ]
  },
  {
   "cell_type": "code",
   "execution_count": 23,
   "metadata": {},
   "outputs": [],
   "source": [
    "# Language model will actually make block_size individual predictions at the same time based on this data\n",
    "    \n",
    "block_size = 128 # 128 spatial extent of the model for its context"
   ]
  },
  {
   "cell_type": "code",
   "execution_count": 7,
   "metadata": {},
   "outputs": [
    {
     "name": "stdout",
     "output_type": "stream",
     "text": [
      "--2020-09-12 23:14:38--  https://raw.githubusercontent.com/karpathy/char-rnn/master/data/tinyshakespeare/input.txt\n",
      "Resolving raw.githubusercontent.com (raw.githubusercontent.com)... 151.101.192.133, 151.101.128.133, 151.101.0.133, ...\n",
      "Connecting to raw.githubusercontent.com (raw.githubusercontent.com)|151.101.192.133|:443... connected.\n",
      "HTTP request sent, awaiting response... 200 OK\n",
      "Length: 1115394 (1.1M) [text/plain]\n",
      "Saving to: ‘input.txt’\n",
      "\n",
      "input.txt           100%[===================>]   1.06M  --.-KB/s    in 0.07s   \n",
      "\n",
      "2020-09-12 23:14:38 (15.7 MB/s) - ‘input.txt’ saved [1115394/1115394]\n",
      "\n"
     ]
    }
   ],
   "source": [
    "!wget https://raw.githubusercontent.com/karpathy/char-rnn/master/data/tinyshakespeare/input.txt"
   ]
  },
  {
   "cell_type": "code",
   "execution_count": 12,
   "metadata": {},
   "outputs": [
    {
     "name": "stdout",
     "output_type": "stream",
     "text": [
      "data has 1115394 characters, 65 unique.\n"
     ]
    }
   ],
   "source": [
    "# you can download this file at https://github.com/karpathy/char-rnn/blob/master/data/tinyshakespeare/input.txt\n",
    "text = open('input.txt', 'r').read() # don't worry we won't run out of file handles\n",
    "train_dataset = CharDataset(text, block_size) # one line of poem is roughly 50 characters"
   ]
  },
  {
   "cell_type": "code",
   "execution_count": 16,
   "metadata": {},
   "outputs": [
    {
     "name": "stderr",
     "output_type": "stream",
     "text": [
      "09/15/2020 13:52:56 - INFO - mingpt.model -   number of parameters: 2.535219e+07\n"
     ]
    }
   ],
   "source": [
    "from mingpt.model import GPT, GPTConfig\n",
    "mconf = GPTConfig(train_dataset.vocab_size, train_dataset.block_size,\n",
    "                  n_layer=8, n_head=8, n_embd=512)\n",
    "model = GPT(mconf)"
   ]
  },
  {
   "cell_type": "code",
   "execution_count": 56,
   "metadata": {},
   "outputs": [
    {
     "data": {
      "text/plain": [
       "10729029632"
      ]
     },
     "execution_count": 56,
     "metadata": {},
     "output_type": "execute_result"
    }
   ],
   "source": [
    "torch.cuda.max_memory_cached(0)\n",
    "# 2 GPUs max_memory_cached(0) is 7637827584\n",
    "# div by 10e9 to GB"
   ]
  },
  {
   "cell_type": "code",
   "execution_count": 55,
   "metadata": {},
   "outputs": [],
   "source": [
    "torch.cuda.empty_cache()"
   ]
  },
  {
   "cell_type": "code",
   "execution_count": 53,
   "metadata": {},
   "outputs": [
    {
     "data": {
      "text/plain": [
       "10727858176"
      ]
     },
     "execution_count": 53,
     "metadata": {},
     "output_type": "execute_result"
    }
   ],
   "source": [
    "torch.cuda.max_memory_allocated(0)\n",
    "# 2 GPUs max_memory_allocated(0) = 7621877760"
   ]
  },
  {
   "cell_type": "code",
   "execution_count": 47,
   "metadata": {},
   "outputs": [
    {
     "data": {
      "text/plain": [
       "10727858176"
      ]
     },
     "execution_count": 47,
     "metadata": {},
     "output_type": "execute_result"
    }
   ],
   "source": [
    "torch.cuda.memory_allocated(0)\n",
    "# 2 GPUs cuda.memory_allocated(0)= 417400320"
   ]
  },
  {
   "cell_type": "code",
   "execution_count": 48,
   "metadata": {},
   "outputs": [
    {
     "data": {
      "text/plain": [
       "10729029632"
      ]
     },
     "execution_count": 48,
     "metadata": {},
     "output_type": "execute_result"
    }
   ],
   "source": [
    "torch.cuda.memory_cached(0)\n",
    "# 2 GPUs cuda.memory_cached(0) = 7054819328"
   ]
  },
  {
   "cell_type": "code",
   "execution_count": 49,
   "metadata": {},
   "outputs": [
    {
     "data": {
      "text/plain": [
       "1171456"
      ]
     },
     "execution_count": 49,
     "metadata": {},
     "output_type": "execute_result"
    }
   ],
   "source": [
    "# cached minus allocated free memory\n",
    "torch.cuda.memory_cached(0) - torch.cuda.memory_allocated(0)"
   ]
  },
  {
   "cell_type": "code",
   "execution_count": 44,
   "metadata": {},
   "outputs": [
    {
     "data": {
      "text/plain": [
       "{0: 11014}"
      ]
     },
     "execution_count": 44,
     "metadata": {},
     "output_type": "execute_result"
    }
   ],
   "source": [
    "# This script looks up memory usage across all the gpu machines\n",
    "# courtesy of mjstevens777 Matt\n",
    "\n",
    "import subprocess\n",
    "\n",
    "def get_gpu_memory_map():\n",
    "    \"\"\"Get the current gpu usage.\n",
    "\n",
    "    Returns\n",
    "    -------\n",
    "    usage: dict\n",
    "        Keys are device ids as integers.\n",
    "        Values are memory usage as integers in MB.\n",
    "    \"\"\"\n",
    "    result = subprocess.check_output(\n",
    "        [\n",
    "            'nvidia-smi', '--query-gpu=memory.used',\n",
    "            '--format=csv,nounits,noheader'\n",
    "        ], encoding='utf-8')\n",
    "    # Convert lines into a dictionary\n",
    "    gpu_memory = [int(x) for x in result.strip().split('\\n')]\n",
    "    gpu_memory_map = dict(zip(range(len(gpu_memory)), gpu_memory))\n",
    "    return gpu_memory_map\n",
    "get_gpu_memory_map()\n",
    "#{0: 7326, 1: 6992, 2: 6992, 3: 6992}"
   ]
  },
  {
   "cell_type": "code",
   "execution_count": 43,
   "metadata": {},
   "outputs": [
    {
     "name": "stdout",
     "output_type": "stream",
     "text": [
      "<class 'torch.Tensor'> torch.Size([512, 128])\n",
      "<class 'torch.Tensor'> torch.Size([512, 128])\n",
      "<class 'torch.Tensor'> torch.Size([512, 128])\n",
      "<class 'torch.Tensor'> torch.Size([512, 128])\n",
      "<class 'torch.Tensor'> torch.Size([512, 128])\n",
      "<class 'torch.Tensor'> torch.Size([512, 128])\n",
      "<class 'torch.Tensor'> torch.Size([512, 128])\n",
      "<class 'torch.Tensor'> torch.Size([512, 128])\n",
      "<class 'torch.Tensor'> torch.Size([512, 128])\n",
      "<class 'torch.Tensor'> torch.Size([512, 128])\n",
      "<class 'torch.Tensor'> torch.Size([512, 128])\n",
      "<class 'torch.Tensor'> torch.Size([512, 128])\n",
      "<class 'torch.Tensor'> torch.Size([512, 128])\n",
      "<class 'torch.Tensor'> torch.Size([512, 128])\n",
      "<class 'torch.Tensor'> torch.Size([512, 128])\n",
      "<class 'torch.Tensor'> torch.Size([512, 128])\n",
      "<class 'torch.Tensor'> torch.Size([512, 128])\n",
      "<class 'torch.Tensor'> torch.Size([512, 128])\n",
      "<class 'torch.Tensor'> torch.Size([512, 128])\n",
      "<class 'torch.Tensor'> torch.Size([512, 128])\n",
      "<class 'torch.Tensor'> torch.Size([512, 128])\n",
      "<class 'torch.Tensor'> torch.Size([512, 128])\n",
      "<class 'torch.Tensor'> torch.Size([512, 128, 512])\n",
      "<class 'torch.Tensor'> torch.Size([1, 128, 512])\n",
      "<class 'torch.Tensor'> torch.Size([512, 128, 512])\n",
      "<class 'torch.Tensor'> torch.Size([512, 128, 512])\n",
      "<class 'torch.Tensor'> torch.Size([512, 128, 512])\n",
      "<class 'torch.Tensor'> torch.Size([512, 8, 128, 64])\n",
      "<class 'torch.Tensor'> torch.Size([512, 8, 128, 64])\n",
      "<class 'torch.Tensor'> torch.Size([512, 8, 128, 64])\n",
      "<class 'torch.Tensor'> torch.Size([256, 128])\n",
      "<class 'torch.Tensor'> torch.Size([256, 128])\n",
      "<class 'torch.Tensor'> torch.Size([256, 128])\n",
      "<class 'torch.Tensor'> torch.Size([256, 128])\n",
      "<class 'torch.Tensor'> torch.Size([256, 128])\n",
      "<class 'torch.Tensor'> torch.Size([256, 128])\n",
      "<class 'torch.Tensor'> torch.Size([256, 128])\n",
      "<class 'torch.Tensor'> torch.Size([256, 128])\n",
      "<class 'torch.Tensor'> torch.Size([256, 128])\n",
      "<class 'torch.Tensor'> torch.Size([256, 128])\n",
      "<class 'torch.Tensor'> torch.Size([256, 128])\n",
      "<class 'torch.Tensor'> torch.Size([256, 128])\n",
      "<class 'torch.Tensor'> torch.Size([256, 128])\n",
      "<class 'torch.Tensor'> torch.Size([256, 128])\n",
      "<class 'torch.Tensor'> torch.Size([256, 128])\n",
      "<class 'torch.Tensor'> torch.Size([256, 128])\n",
      "<class 'torch.Tensor'> torch.Size([256, 128])\n",
      "<class 'torch.Tensor'> torch.Size([256, 128])\n",
      "<class 'torch.Tensor'> torch.Size([256, 128])\n",
      "<class 'torch.Tensor'> torch.Size([256, 128])\n",
      "<class 'torch.Tensor'> torch.Size([256, 128])\n",
      "<class 'torch.Tensor'> torch.Size([256, 128])\n",
      "<class 'torch.Tensor'> torch.Size([256, 128, 512])\n",
      "<class 'torch.Tensor'> torch.Size([1, 128, 512])\n",
      "<class 'torch.Tensor'> torch.Size([256, 128, 512])\n",
      "<class 'torch.Tensor'> torch.Size([256, 128, 512])\n",
      "<class 'torch.Tensor'> torch.Size([256, 8, 128, 64])\n",
      "<class 'torch.Tensor'> torch.Size([256, 8, 128, 64])\n",
      "<class 'torch.Tensor'> torch.Size([256, 8, 128, 64])\n",
      "<class 'torch.Tensor'> torch.Size([128, 128])\n",
      "<class 'torch.Tensor'> torch.Size([128, 128])\n",
      "<class 'torch.Tensor'> torch.Size([128, 128])\n",
      "<class 'torch.Tensor'> torch.Size([128, 128])\n",
      "<class 'torch.Tensor'> torch.Size([128, 128])\n",
      "<class 'torch.Tensor'> torch.Size([128, 128])\n",
      "<class 'torch.Tensor'> torch.Size([128, 128])\n",
      "<class 'torch.Tensor'> torch.Size([128, 128])\n",
      "<class 'torch.Tensor'> torch.Size([128, 128])\n",
      "<class 'torch.Tensor'> torch.Size([128, 128])\n",
      "<class 'torch.Tensor'> torch.Size([128, 128])\n",
      "<class 'torch.Tensor'> torch.Size([128, 128])\n",
      "<class 'torch.Tensor'> torch.Size([128, 128])\n",
      "<class 'torch.Tensor'> torch.Size([128, 128])\n",
      "<class 'torch.Tensor'> torch.Size([128, 128])\n",
      "<class 'torch.Tensor'> torch.Size([128, 128])\n",
      "<class 'torch.Tensor'> torch.Size([128, 128])\n",
      "<class 'torch.Tensor'> torch.Size([128, 128])\n",
      "<class 'torch.Tensor'> torch.Size([128, 128])\n",
      "<class 'torch.Tensor'> torch.Size([128, 128])\n",
      "<class 'torch.Tensor'> torch.Size([128, 128])\n",
      "<class 'torch.Tensor'> torch.Size([128, 128])\n",
      "<class 'torch.Tensor'> torch.Size([128, 128, 512])\n",
      "<class 'torch.Tensor'> torch.Size([1, 128, 512])\n",
      "<class 'torch.Tensor'> torch.Size([128, 128, 512])\n",
      "<class 'torch.Tensor'> torch.Size([64, 128])\n",
      "<class 'torch.Tensor'> torch.Size([64, 128])\n",
      "<class 'torch.Tensor'> torch.Size([64, 128])\n",
      "<class 'torch.Tensor'> torch.Size([64, 128])\n",
      "<class 'torch.Tensor'> torch.Size([64, 128])\n",
      "<class 'torch.Tensor'> torch.Size([64, 128])\n",
      "<class 'torch.Tensor'> torch.Size([64, 128])\n",
      "<class 'torch.Tensor'> torch.Size([64, 128])\n",
      "<class 'torch.Tensor'> torch.Size([64, 128])\n",
      "<class 'torch.Tensor'> torch.Size([64, 128])\n",
      "<class 'torch.Tensor'> torch.Size([64, 128])\n",
      "<class 'torch.Tensor'> torch.Size([64, 128])\n",
      "<class 'torch.Tensor'> torch.Size([64, 128])\n",
      "<class 'torch.Tensor'> torch.Size([64, 128])\n",
      "<class 'torch.Tensor'> torch.Size([64, 128])\n",
      "<class 'torch.Tensor'> torch.Size([64, 128])\n",
      "<class 'torch.Tensor'> torch.Size([64, 128])\n",
      "<class 'torch.Tensor'> torch.Size([64, 128])\n",
      "<class 'torch.Tensor'> torch.Size([64, 128])\n",
      "<class 'torch.Tensor'> torch.Size([64, 128])\n",
      "<class 'torch.Tensor'> torch.Size([64, 128])\n",
      "<class 'torch.Tensor'> torch.Size([64, 128])\n",
      "<class 'torch.Tensor'> torch.Size([64, 128, 512])\n",
      "<class 'torch.Tensor'> torch.Size([1, 128, 512])\n",
      "<class 'torch.Tensor'> torch.Size([64, 128, 512])\n",
      "<class 'torch.nn.parameter.Parameter'> torch.Size([1, 128, 512])\n",
      "<class 'torch.nn.parameter.Parameter'> torch.Size([65, 512])\n",
      "<class 'torch.nn.parameter.Parameter'> torch.Size([512])\n",
      "<class 'torch.nn.parameter.Parameter'> torch.Size([512])\n",
      "<class 'torch.nn.parameter.Parameter'> torch.Size([512])\n",
      "<class 'torch.nn.parameter.Parameter'> torch.Size([512])\n",
      "<class 'torch.nn.parameter.Parameter'> torch.Size([512, 512])\n",
      "<class 'torch.nn.parameter.Parameter'> torch.Size([512])\n",
      "<class 'torch.nn.parameter.Parameter'> torch.Size([512, 512])\n",
      "<class 'torch.nn.parameter.Parameter'> torch.Size([512])\n",
      "<class 'torch.nn.parameter.Parameter'> torch.Size([512, 512])\n",
      "<class 'torch.nn.parameter.Parameter'> torch.Size([512])\n",
      "<class 'torch.nn.parameter.Parameter'> torch.Size([512, 512])\n",
      "<class 'torch.nn.parameter.Parameter'> torch.Size([512])\n",
      "<class 'torch.nn.parameter.Parameter'> torch.Size([512])\n",
      "<class 'torch.nn.parameter.Parameter'> torch.Size([512])\n",
      "<class 'torch.nn.parameter.Parameter'> torch.Size([512])\n",
      "<class 'torch.nn.parameter.Parameter'> torch.Size([512])\n",
      "<class 'torch.nn.parameter.Parameter'> torch.Size([512, 512])\n",
      "<class 'torch.nn.parameter.Parameter'> torch.Size([512])\n",
      "<class 'torch.nn.parameter.Parameter'> torch.Size([512, 512])\n",
      "<class 'torch.nn.parameter.Parameter'> torch.Size([512])\n",
      "<class 'torch.nn.parameter.Parameter'> torch.Size([512, 512])\n",
      "<class 'torch.nn.parameter.Parameter'> torch.Size([512])\n",
      "<class 'torch.nn.parameter.Parameter'> torch.Size([512, 512])\n",
      "<class 'torch.nn.parameter.Parameter'> torch.Size([512])\n",
      "<class 'torch.nn.parameter.Parameter'> torch.Size([512])\n",
      "<class 'torch.nn.parameter.Parameter'> torch.Size([512])\n",
      "<class 'torch.nn.parameter.Parameter'> torch.Size([512])\n",
      "<class 'torch.nn.parameter.Parameter'> torch.Size([512])\n",
      "<class 'torch.nn.parameter.Parameter'> torch.Size([512, 512])\n",
      "<class 'torch.nn.parameter.Parameter'> torch.Size([512])\n",
      "<class 'torch.nn.parameter.Parameter'> torch.Size([512, 512])\n",
      "<class 'torch.nn.parameter.Parameter'> torch.Size([512])\n",
      "<class 'torch.nn.parameter.Parameter'> torch.Size([512, 512])\n",
      "<class 'torch.nn.parameter.Parameter'> torch.Size([512])\n",
      "<class 'torch.nn.parameter.Parameter'> torch.Size([512, 512])\n",
      "<class 'torch.nn.parameter.Parameter'> torch.Size([512])\n",
      "<class 'torch.nn.parameter.Parameter'> torch.Size([512])\n",
      "<class 'torch.nn.parameter.Parameter'> torch.Size([512])\n",
      "<class 'torch.nn.parameter.Parameter'> torch.Size([512])\n",
      "<class 'torch.nn.parameter.Parameter'> torch.Size([512])\n",
      "<class 'torch.nn.parameter.Parameter'> torch.Size([512, 512])\n",
      "<class 'torch.nn.parameter.Parameter'> torch.Size([512])\n",
      "<class 'torch.nn.parameter.Parameter'> torch.Size([2048, 512])\n",
      "<class 'torch.nn.parameter.Parameter'> torch.Size([2048])\n",
      "<class 'torch.nn.parameter.Parameter'> torch.Size([512, 2048])\n",
      "<class 'torch.nn.parameter.Parameter'> torch.Size([512])\n",
      "<class 'torch.nn.parameter.Parameter'> torch.Size([2048, 512])\n",
      "<class 'torch.nn.parameter.Parameter'> torch.Size([2048])\n",
      "<class 'torch.nn.parameter.Parameter'> torch.Size([512, 2048])\n",
      "<class 'torch.nn.parameter.Parameter'> torch.Size([512])\n",
      "<class 'torch.nn.parameter.Parameter'> torch.Size([2048, 512])\n",
      "<class 'torch.nn.parameter.Parameter'> torch.Size([2048])\n",
      "<class 'torch.nn.parameter.Parameter'> torch.Size([512, 2048])\n",
      "<class 'torch.nn.parameter.Parameter'> torch.Size([512])\n",
      "<class 'torch.nn.parameter.Parameter'> torch.Size([512, 512])\n",
      "<class 'torch.nn.parameter.Parameter'> torch.Size([512])\n",
      "<class 'torch.nn.parameter.Parameter'> torch.Size([512, 512])\n",
      "<class 'torch.nn.parameter.Parameter'> torch.Size([512])\n",
      "<class 'torch.nn.parameter.Parameter'> torch.Size([512, 512])\n",
      "<class 'torch.nn.parameter.Parameter'> torch.Size([512])\n",
      "<class 'torch.nn.parameter.Parameter'> torch.Size([512, 512])\n",
      "<class 'torch.nn.parameter.Parameter'> torch.Size([512])\n",
      "<class 'torch.nn.parameter.Parameter'> torch.Size([512])\n",
      "<class 'torch.nn.parameter.Parameter'> torch.Size([512])\n",
      "<class 'torch.nn.parameter.Parameter'> torch.Size([512])\n",
      "<class 'torch.nn.parameter.Parameter'> torch.Size([512])\n",
      "<class 'torch.nn.parameter.Parameter'> torch.Size([512, 512])\n",
      "<class 'torch.nn.parameter.Parameter'> torch.Size([512])\n",
      "<class 'torch.nn.parameter.Parameter'> torch.Size([512, 512])\n",
      "<class 'torch.nn.parameter.Parameter'> torch.Size([512])\n",
      "<class 'torch.nn.parameter.Parameter'> torch.Size([512, 512])\n",
      "<class 'torch.nn.parameter.Parameter'> torch.Size([512])\n",
      "<class 'torch.nn.parameter.Parameter'> torch.Size([512, 512])\n",
      "<class 'torch.nn.parameter.Parameter'> torch.Size([512])\n",
      "<class 'torch.nn.parameter.Parameter'> torch.Size([512])\n",
      "<class 'torch.nn.parameter.Parameter'> torch.Size([512])\n",
      "<class 'torch.nn.parameter.Parameter'> torch.Size([512])\n",
      "<class 'torch.nn.parameter.Parameter'> torch.Size([512])\n",
      "<class 'torch.nn.parameter.Parameter'> torch.Size([512, 512])\n",
      "<class 'torch.nn.parameter.Parameter'> torch.Size([512])\n",
      "<class 'torch.nn.parameter.Parameter'> torch.Size([512, 512])\n",
      "<class 'torch.nn.parameter.Parameter'> torch.Size([512])\n",
      "<class 'torch.nn.parameter.Parameter'> torch.Size([512, 512])\n",
      "<class 'torch.nn.parameter.Parameter'> torch.Size([512])\n",
      "<class 'torch.nn.parameter.Parameter'> torch.Size([512, 512])\n",
      "<class 'torch.nn.parameter.Parameter'> torch.Size([512])\n",
      "<class 'torch.nn.parameter.Parameter'> torch.Size([512])\n",
      "<class 'torch.nn.parameter.Parameter'> torch.Size([512])\n",
      "<class 'torch.nn.parameter.Parameter'> torch.Size([512])\n",
      "<class 'torch.nn.parameter.Parameter'> torch.Size([512])\n",
      "<class 'torch.nn.parameter.Parameter'> torch.Size([512, 512])\n",
      "<class 'torch.nn.parameter.Parameter'> torch.Size([512])\n",
      "<class 'torch.nn.parameter.Parameter'> torch.Size([512, 512])\n",
      "<class 'torch.nn.parameter.Parameter'> torch.Size([512])\n",
      "<class 'torch.nn.parameter.Parameter'> torch.Size([512, 512])\n",
      "<class 'torch.nn.parameter.Parameter'> torch.Size([512])\n",
      "<class 'torch.nn.parameter.Parameter'> torch.Size([512, 512])\n",
      "<class 'torch.nn.parameter.Parameter'> torch.Size([512])\n",
      "<class 'torch.nn.parameter.Parameter'> torch.Size([512])\n",
      "<class 'torch.nn.parameter.Parameter'> torch.Size([512])\n",
      "<class 'torch.nn.parameter.Parameter'> torch.Size([512])\n",
      "<class 'torch.nn.parameter.Parameter'> torch.Size([512])\n",
      "<class 'torch.nn.parameter.Parameter'> torch.Size([512, 512])\n",
      "<class 'torch.nn.parameter.Parameter'> torch.Size([512])\n",
      "<class 'torch.nn.parameter.Parameter'> torch.Size([512, 512])\n",
      "<class 'torch.nn.parameter.Parameter'> torch.Size([512])\n",
      "<class 'torch.nn.parameter.Parameter'> torch.Size([512, 512])\n",
      "<class 'torch.nn.parameter.Parameter'> torch.Size([512])\n",
      "<class 'torch.nn.parameter.Parameter'> torch.Size([2048, 512])\n",
      "<class 'torch.nn.parameter.Parameter'> torch.Size([2048])\n",
      "<class 'torch.nn.parameter.Parameter'> torch.Size([512, 2048])\n",
      "<class 'torch.nn.parameter.Parameter'> torch.Size([512])\n",
      "<class 'torch.nn.parameter.Parameter'> torch.Size([2048, 512])\n",
      "<class 'torch.nn.parameter.Parameter'> torch.Size([2048])\n",
      "<class 'torch.nn.parameter.Parameter'> torch.Size([512, 2048])\n",
      "<class 'torch.nn.parameter.Parameter'> torch.Size([512])\n",
      "<class 'torch.nn.parameter.Parameter'> torch.Size([2048, 512])\n",
      "<class 'torch.nn.parameter.Parameter'> torch.Size([2048])\n",
      "<class 'torch.nn.parameter.Parameter'> torch.Size([512, 2048])\n",
      "<class 'torch.nn.parameter.Parameter'> torch.Size([512])\n",
      "<class 'torch.nn.parameter.Parameter'> torch.Size([2048, 512])\n",
      "<class 'torch.nn.parameter.Parameter'> torch.Size([2048])\n",
      "<class 'torch.nn.parameter.Parameter'> torch.Size([512, 2048])\n",
      "<class 'torch.nn.parameter.Parameter'> torch.Size([512])\n",
      "<class 'torch.nn.parameter.Parameter'> torch.Size([512])\n",
      "<class 'torch.nn.parameter.Parameter'> torch.Size([512])\n",
      "<class 'torch.nn.parameter.Parameter'> torch.Size([65, 512])\n",
      "<class 'torch.nn.parameter.Parameter'> torch.Size([2048, 512])\n",
      "<class 'torch.nn.parameter.Parameter'> torch.Size([2048])\n",
      "<class 'torch.nn.parameter.Parameter'> torch.Size([512, 2048])\n",
      "<class 'torch.nn.parameter.Parameter'> torch.Size([512])\n",
      "<class 'torch.Tensor'> torch.Size([1, 1, 128, 128])\n",
      "<class 'torch.Tensor'> torch.Size([1, 1, 128, 128])\n",
      "<class 'torch.Tensor'> torch.Size([1, 1, 128, 128])\n",
      "<class 'torch.Tensor'> torch.Size([1, 1, 128, 128])\n",
      "<class 'torch.Tensor'> torch.Size([1, 1, 128, 128])\n",
      "<class 'torch.Tensor'> torch.Size([1, 1, 128, 128])\n",
      "<class 'torch.Tensor'> torch.Size([1, 1, 128, 128])\n",
      "<class 'torch.Tensor'> torch.Size([1, 1, 128, 128])\n"
     ]
    },
    {
     "name": "stderr",
     "output_type": "stream",
     "text": [
      "/opt/conda/lib/python3.7/site-packages/torch/distributed/distributed_c10d.py:102: UserWarning: torch.distributed.reduce_op is deprecated, please use torch.distributed.ReduceOp instead\n",
      "  warnings.warn(\"torch.distributed.reduce_op is deprecated, please use \"\n"
     ]
    }
   ],
   "source": [
    "# prints currently alive Tensors and Variables\n",
    "# courtesy Smth, PyTorch Dev, Facebook AI Research\n",
    "# use the garbage collector’s book-keeping \n",
    "# to print out the currently resident Tensors. \n",
    "# Here’s a snippet that shows all the currently allocated Tensors:\n",
    "\n",
    "import torch\n",
    "import gc\n",
    "for obj in gc.get_objects():\n",
    "    try:\n",
    "        if torch.is_tensor(obj) or (hasattr(obj, 'data') and torch.is_tensor(obj.data)):\n",
    "            print(type(obj), obj.size())\n",
    "    except:\n",
    "        pass"
   ]
  },
  {
   "cell_type": "code",
   "execution_count": 42,
   "metadata": {},
   "outputs": [
    {
     "name": "stdout",
     "output_type": "stream",
     "text": [
      "total    : 11554717696\n",
      "free     : 5373952\n",
      "used     : 11549343744\n"
     ]
    }
   ],
   "source": [
    "# make sure you run this pip install pynvml\n",
    "\n",
    "from pynvml import *\n",
    "nvmlInit()\n",
    "h = nvmlDeviceGetHandleByIndex(0)\n",
    "info = nvmlDeviceGetMemoryInfo(h)\n",
    "print(f'total    : {info.total}')\n",
    "print(f'free     : {info.free}')\n",
    "print(f'used     : {info.used}')\n",
    "\n",
    "# total    : 8370061312\n",
    "# free     : 687865856\n",
    "# used     : 7682195456\n",
    "    "
   ]
  },
  {
   "cell_type": "code",
   "execution_count": 33,
   "metadata": {},
   "outputs": [
    {
     "name": "stdout",
     "output_type": "stream",
     "text": [
      "Collecting GPUtil\n",
      "  Downloading GPUtil-1.4.0.tar.gz (5.5 kB)\n",
      "Building wheels for collected packages: GPUtil\n",
      "  Building wheel for GPUtil (setup.py) ... \u001b[?25ldone\n",
      "\u001b[?25h  Created wheel for GPUtil: filename=GPUtil-1.4.0-py3-none-any.whl size=7411 sha256=5bae5a2c7cae3f3a20711482acc9f3d0acc279ebe6b09cb95cedba078590c316\n",
      "  Stored in directory: /root/.cache/pip/wheels/6e/f8/83/534c52482d6da64622ddbf72cd93c35d2ef2881b78fd08ff0c\n",
      "Successfully built GPUtil\n",
      "Installing collected packages: GPUtil\n",
      "Successfully installed GPUtil-1.4.0\n",
      "\u001b[33mWARNING: You are using pip version 20.1.1; however, version 20.2.3 is available.\n",
      "You should consider upgrading via the '/opt/conda/bin/python3.7 -m pip install --upgrade pip' command.\u001b[0m\n"
     ]
    }
   ],
   "source": [
    "!pip install GPUtil"
   ]
  },
  {
   "cell_type": "code",
   "execution_count": 41,
   "metadata": {},
   "outputs": [
    {
     "name": "stdout",
     "output_type": "stream",
     "text": [
      "Initial GPU Usage\n",
      "| ID | GPU | MEM  |\n",
      "-------------------\n",
      "|  0 |  0% | 100% |\n",
      "GPU Usage after allcoating a bunch of Tensors\n",
      "| ID | GPU | MEM  |\n",
      "-------------------\n",
      "|  0 |  0% | 100% |\n",
      "GPU Usage after deleting the Tensors\n",
      "| ID | GPU | MEM  |\n",
      "-------------------\n",
      "|  0 |  0% | 100% |\n",
      "GPU Usage after emptying the cache\n",
      "| ID | GPU | MEM  |\n",
      "-------------------\n",
      "|  0 |  0% | 100% |\n"
     ]
    }
   ],
   "source": [
    "# make sure to install GPUtil before running this utility\n",
    "\n",
    "import torch\n",
    "from GPUtil import showUtilization as gpu_usage\n",
    "\n",
    "print(\"Initial GPU Usage\")\n",
    "gpu_usage()                             \n",
    "\n",
    "tensorList = []\n",
    "#for x in range(10):\n",
    "#    tensorList.append(torch.randn(10000000,10).cuda())   # reduce the size of tensor if you are getting OOM\n",
    "\n",
    "print(\"GPU Usage after allcoating a bunch of Tensors\")\n",
    "gpu_usage()\n",
    "\n",
    "del tensorList\n",
    "\n",
    "print(\"GPU Usage after deleting the Tensors\")\n",
    "gpu_usage()  \n",
    "\n",
    "print(\"GPU Usage after emptying the cache\")\n",
    "torch.cuda.empty_cache()\n",
    "gpu_usage()"
   ]
  },
  {
   "cell_type": "code",
   "execution_count": 38,
   "metadata": {},
   "outputs": [
    {
     "name": "stdout",
     "output_type": "stream",
     "text": [
      "\u001b[?1l\u001b>p:\u001b[5;15H65535\u001b[5;31H0\u001b[7C65535\u001b[24;80H7\u001b[4;64H2584\u001b[7C25020.1: Sun Sep 13 05:12:57 2020\u001b[3;15Htotal\u001b[3;28Hused\u001b[3;40Hfree\u001b[6Cshared  buff/cache   available\u001b[1;75H8\u001b[24;80H\u001b[1;75H9\u001b[4;42H29\u001b[34C19\u001b[20B\u001b[1;72H3:00\u001b[4;31H4\u001b[24;80H\u001b[1;75H1\u001b[4;43H8\u001b[24;80H\u001b[1;75H2\u001b[4;79H8\u001b[20B\u001b[1;75H3\u001b[4;31H5\u001b[24;80H\u001b[1;75H4\u001b[24;80H\u001b[1;75H5\u001b[24;80H\u001b[1;75H6\u001b[4;31H4\u001b[4;43H9\u001b[35C9\u001b[20B\u001b[1;75H7\u001b[24;80H\u001b[1;75H8\u001b[4;31H5\u001b[4;43H8\u001b[35C8\u001b[20B\u001b[1;75H9\u001b[24;80H\u001b[1;74H10\u001b[24;80H\u001b[1;75H1\u001b[4;43H7\u001b[35C7\u001b[20B\u001b[1;75H2\u001b[24;80H\u001b[1;75H3\u001b[4;43H8\u001b[35C8\u001b[20B\u001b[1;75H4\u001b[24;80H\u001b[1;75H5\u001b[24;80H\u001b[1;75H6\u001b[24;80H\u001b[1;75H7\u001b[24;80H\u001b[1;75H8\u001b[24;80H\u001b[1;75H9\u001b[24;80H\u001b[1;74H20\u001b[4;31H4\u001b[4;43H9\u001b[35C9\u001b[20B\u001b[1;75H1\u001b[24;80H\u001b[1;75H2\u001b[24;80H\u001b[1;75H3\u001b[24;80H\u001b[1;75H4\u001b[24;80H\u001b[1;75H5\u001b[24;80H\u001b[1;75H6\u001b[24;80H\u001b[1;75H7\u001b[24;80H\u001b[1;75H8\u001b[24;80H\u001b[1;75H9\u001b[4;43H8\u001b[35C8\u001b[20B\u001b[1;74H30\u001b[4;31H3\u001b[4;42H30\u001b[34C20\u001b[20B\u001b[1;75H1\u001b[24;80H\u001b[1;75H2\u001b[24;80H\u001b[1;75H3\u001b[24;80H\u001b[1;75H4\u001b[24;80H\u001b[1;75H5\u001b[24;80H\u001b[1;75H6\u001b[4;31H4\u001b[4;42H28\u001b[34C18\u001b[20B\u001b[1;75H7\u001b[4;43H9\u001b[35C9\u001b[20B\u001b[1;75H8\u001b[24;80H\u001b[1;75H9\u001b[24;80H\u001b[1;74H40\u001b[4;30H78\u001b[4;42H15\u001b[34C05\u001b[20B\u001b[1;75H1\u001b[4;30H95\u001b[4;41H298\u001b[32C4988\u001b[20B\u001b[1;75H2\u001b[24;80H\u001b[1;75H3\u001b[4;30H63\u001b[4;41H330\u001b[32C5020\u001b[20B\u001b[1;75H4\u001b[24;80H\u001b[1;75H5\u001b[3B5019\u001b[20B\u001b[1;75H6\u001b[3B5020\u001b[20B\u001b[1;75H7\u001b[4;42H29\u001b[34C19\u001b[20B\u001b[1;75H8\u001b[24;80H\u001b[1;75H9\u001b[24;80H\u001b[1;74H50\u001b[4;31H5\u001b[4;43H8\u001b[35C8\u001b[20B\u001b[1;75H1\u001b[24;80H\u001b[1;75H2\u001b[24;80H\u001b[1;75H3\u001b[24;80H\u001b[1;75H4\u001b[4;31H4\u001b[24;80H\u001b[1;75H5\u001b[4;31H6\u001b[4;43H7\u001b[35C7\u001b[20B\u001b[1;75H6\u001b[24;80H\u001b[1;75H7\u001b[4;31H3\u001b[4;43H9\u001b[35C9\u001b[20B\u001b[1;75H8\u001b[24;80H\u001b[1;75H9\u001b[4;31H4\u001b[24;80H\u001b[1;72H4:00\u001b[4;43H8\u001b[35C8\u001b[20B\u001b[1;75H1\u001b[24;80H\u001b[1;75H2\u001b[4;31H3\u001b[4;43H9\u001b[35C9\u001b[20B\u001b[1;75H3\u001b[24;80H\u001b[1;75H4\u001b[4;31H4\u001b[24;80H\u001b[1;75H5\u001b[4;31H3\u001b[46C20\u001b[20B\u001b[1;75H6\u001b[4;31H2\u001b[4;42H30\u001b[24;80H\u001b[1;75H8\u001b[4;43H1\u001b[35C1\u001b[20B\u001b[1;75H9\u001b[24;80H\u001b[1;74H10\u001b[4;31H5\u001b[4;42H27\u001b[34C17\u001b[20B\u001b[1;75H1\u001b[4;31H2\u001b[4;42H30\u001b[34C20\u001b[20B\u001b[1;75H2\u001b[24;80H\u001b[1;75H3\u001b[24;80H\u001b[1;75H4\u001b[24;80H\u001b[1;75H5\u001b[24;80H\u001b[1;75H6\u001b[4;31H3\u001b[24;80H\u001b[1;75H7\u001b[4;42H29\u001b[24;80H\u001b[1;75H8\u001b[4;42H30\u001b[24;80H\u001b[1;75H9\u001b[4;42H29\u001b[34C19\u001b[20B\u001b[1;74H20\u001b[4;31H8\u001b[4;43H4\u001b[35C4\u001b[20B\u001b[1;75H1\u001b[4;31H5\u001b[4;43H8\u001b[35C8\u001b[20B\u001b[1;75H2\u001b[4;31H4\u001b[24;80H\u001b[1;75H3\u001b[4;31H5\u001b[4;43H7\u001b[24;80H\u001b[1;75H4\u001b[4;79H7\u001b[20B\u001b[1;75H5\u001b[24;80H\u001b[1;75H6\u001b[4;31H6\u001b[24;80H\u001b[1;75H7\u001b[24;80H\u001b[1;75H8\u001b[4;31H5\u001b[24;80H\u001b[1;75H9\u001b[24;80H\u001b[1;74H30\u001b[4;43H8\u001b[35C8\u001b[20B\u001b[1;75H1\u001b[4;43H7\u001b[24;80H\u001b[1;75H2\u001b[4;79H7\u001b[20B\u001b[1;75H3\u001b[24;80H\u001b[1;75H4\u001b[24;80H\u001b[1;75H5\u001b[24;80H\u001b[1;75H6\u001b[24;80H\u001b[1;75H7\u001b[24;80H\u001b[1;75H8\u001b[4;79H8\u001b[20B\u001b[1;75H9\u001b[4;79H7\u001b[20B\u001b[1;74H40\u001b[4;79H8\u001b[20B\u001b[1;75H1\u001b[4;79H7\u001b[20B\u001b[1;75H2\u001b[4;79H8\u001b[20B\u001b[1;75H3\u001b[24;80H\u001b[1;75H4\u001b[4;30H71\u001b[4;43H1\u001b[35C2\u001b[20B\u001b[1;75H5\u001b[4;30H95\u001b[4;41H297\u001b[32C4988\u001b[20B\u001b[1;75H6\u001b[4;31H4\u001b[4;43H8\u001b[24;80H\u001b[1;75H7\u001b[4;30H63\u001b[4;41H329\u001b[32C5020\u001b[20B\u001b[1;75H8\u001b[24;80H\u001b[1;75H9\u001b[3B5019\u001b[20B\u001b[1;74H50\u001b[4;43H8\u001b[4;67H5\u001b[24;80H\u001b[1;75H1\u001b[4;43H9\u001b[24;80H\u001b[1;75H2\u001b[24;80H\u001b[1;75H3\u001b[4;31H4\u001b[4;43H8\u001b[35C8\u001b[20B\u001b[1;75H4\u001b[4;43H7\u001b[24;80H\u001b[1;75H5\u001b[4;31H5\u001b[24;80H\u001b[1;75H6\u001b[4;31H4\u001b[4;43H8\u001b[24;80H\u001b[1;75H7\u001b[4;43H7\u001b[24;80H\u001b[1;75H8\u001b[4;31H5\u001b[24;80H\u001b[1;75H9\u001b[4;30H70\u001b[4;43H1\u001b[35C2\u001b[20B\u001b[1;72H5:00\u001b[4;31H1\u001b[24;80H\u001b[1;75H1\u001b[24;80H\u001b[1;75H2\u001b[4;79H1\u001b[20B\u001b[1;75H3\u001b[24;80H\u001b[1;75H4\u001b[4;31H2\u001b[4;43H0\u001b[24;80H\u001b[1;75H5\u001b[4;31H1\u001b[4;43H1\u001b[35C2\u001b[20B\u001b[1;75H6\u001b[4;79H1\u001b[20B\u001b[1;75H7\u001b[4;43H0\u001b[24;80H\u001b[1;75H8\u001b[24;80H\u001b[1;75H9\u001b[4;31H2\u001b[24;80H\u001b[1;74H10\u001b[4;31H3\u001b[4;42H19\u001b[35C0\u001b[20B\u001b[1;75H1\u001b[4;31H2\u001b[24;80H\u001b[1;75H2\u001b[4;31H3\u001b[24;80H\u001b[1;75H3\u001b[24;80H\u001b[1;75H4\u001b[4;31H2\u001b[24;80H\u001b[1;75H5\u001b[4;31H3\u001b[46C09\u001b[20B\u001b[1;75H6\u001b[24;80H\u001b[1;75H7\u001b[3B5010\u001b[20B\u001b[1;75H8\u001b[4;31H4\u001b[4;43H8\u001b[34C08\u001b[20B\u001b[1;75H9\u001b[24;80H\u001b[1;74H20\u001b[4;30H66\u001b[4;42H26\u001b[34C17\u001b[20B\u001b[1;75H1\u001b[4;31H5\u001b[4;43H7\u001b[24;80H\u001b[1;75H2\u001b[4;79H8\u001b[20B\u001b[1;75H3\u001b[24;80H\u001b[1;75H4\u001b[4;31H4\u001b[24;80H\u001b[1;75H5\u001b[4;43H8\u001b[35C9\u001b[20B\u001b[1;75H6\u001b[24;80H\u001b[1;75H7\u001b[4;43H7\u001b[35C8\u001b[20B\u001b[1;75H8\u001b[24;80H\u001b[1;75H9\u001b[4;31H5\u001b[24;80H\u001b[1;74H30\u001b[4;79H7\u001b[20B\u001b[1;75H1\u001b[24;80H\u001b[1;75H2\u001b[24;80H\u001b[1;75H3\u001b[4;79H8\u001b[20B\u001b[1;75H4\u001b[4;31H4\u001b[24;80H\u001b[1;75H5\u001b[4;43H8\u001b[24;80H\u001b[1;75H6\u001b[4;43H7\u001b[24;80H\u001b[1;75H7\u001b[4;31H5\u001b[24;80H\u001b[1;75H8\u001b[24;80H\u001b[1;75H9\u001b[4;79H7\u001b[20B\u001b[1;74H40\u001b[24;80H\u001b[1;75H1\u001b[24;80H\u001b[1;75H2\u001b[4;79H8\u001b[20B\u001b[1;75H3\u001b[24;80H\u001b[1;75H4\u001b[24;80H\u001b[1;75H5\u001b[4;79H7\u001b[20B\u001b[1;75H6\u001b[24;80H\u001b[1;75H7\u001b[4;79H8\u001b[20B\u001b[1;75H9\u001b[4;30H9\u001b[4;41H296\u001b[32C4987\u001b[20B\u001b[1;74H50\u001b[4;31H9\u001b[4;43H3\u001b[35C4\u001b[20B\u001b[1;75H1\u001b[4;30H64\u001b[4;41H328\u001b[32C5018\u001b[20B\u001b[1;75H2\u001b[4;43H7\u001b[24;80H\u001b[1;75H3\u001b[4;31H5\u001b[24;80H\u001b[1;75H4\u001b[4;79H7\u001b[20B\u001b[1;75H5\u001b[4;79H8\u001b[20B\u001b[1;75H6\u001b[24;80H\u001b[1;75H7\u001b[4;31H4\u001b[24;80H\u001b[1;75H8\u001b[4;31H5\u001b[47C7\u001b[20B\u001b[1;75H9\u001b[4;79H8\u001b[20B\u001b[1;72H6:00\u001b[4;31H4\u001b[24;80H\u001b[1;75H1\u001b[4;43H8\u001b[24;80H\u001b[1;75H2\u001b[24;80H\u001b[1;75H3\u001b[24;80H\u001b[1;75H4\u001b[4;31H5\u001b[4;43H7\u001b[35C7\u001b[20B\u001b[1;75H5\u001b[4;31H4\u001b[4;43H8\u001b[35C8\u001b[20B\u001b[1;75H6\u001b[24;80H\u001b[1;75H7\u001b[4;43H7\u001b[24;80H\u001b[1;75H8\u001b[24;80H\u001b[1;75H9\u001b[4;43H8\u001b[24;80H\u001b[1;74H10\u001b[4;79H9\u001b[20B\u001b[1;75H1\u001b[24;80H\u001b[1;75H2\u001b[4;79H8\u001b[20B\u001b[1;75H3\u001b[4;31H5\u001b[4;43H7\u001b[35C7\u001b[20B\u001b[1;75H4\u001b[4;79H8\u001b[20B\u001b[1;75H5\u001b[4;43H6\u001b[35C7\u001b[20B\u001b[1;75H6\u001b[4;43H7\u001b[24;80H\u001b[1;75H7\u001b[24;80H\u001b[1;75H8\u001b[24;80H\u001b[1;75H9\u001b[4;79H8\u001b[20B\u001b[1;74H20\u001b[4;31H4\u001b[4;43H8\u001b[35C9\u001b[20B\u001b[1;75H1\u001b[4;79H8\u001b[20B\u001b[1;75H2\u001b[4;31H3\u001b[4;43H9\u001b[35C9\u001b[20B\u001b[1;75H3\u001b[24;80H\u001b[1;75H4\u001b[4;43H8\u001b[24;80H\u001b[1;75H5\u001b[4;31H4\u001b[4;43H7\u001b[35C8\u001b[20B\u001b[1;75H6\u001b[4;43H8\u001b[24;80H\u001b[1;75H7\u001b[4;31H3\u001b[47C9\u001b[20B\u001b[1;75H8\u001b[24;80H\u001b[1;75H9\u001b[4;43H9\u001b[24;80H\u001b[1;74H30\u001b[4;31H4\u001b[4;43H8\u001b[35C8\u001b[20B\u001b[1;75H1\u001b[4;31H3\u001b[47C9\u001b[20B\u001b[1;75H2\u001b[24;80H\u001b[1;75H3\u001b[24;80H\u001b[1;75H4\u001b[24;80H\u001b[1;75H5\u001b[4;31H4\u001b[47C8\u001b[20B\u001b[1;75H6\u001b[24;80H\u001b[1;75H7\u001b[4;31H3\u001b[47C9\u001b[20B\u001b[1;75H8\u001b[4;31H4\u001b[24;80H\u001b[1;75H9\u001b[4;31H3\u001b[4;43H9\u001b[24;80H\u001b[1;74H40\u001b[4;31H4\u001b[4;43H8\u001b[35C8\u001b[20B\u001b[1;75H1\u001b[24;80H\u001b[1;75H2\u001b[24;80H\u001b[1;75H3\u001b[24;80H\u001b[1;75H4\u001b[4;79H9\u001b[20B\u001b[1;75H5\u001b[24;80H\u001b[1;75H6\u001b[4;31H3\u001b[4;43H9\u001b[24;80H\u001b[1;75H7\u001b[4;31H4\u001b[4;43H8\u001b[4;67H4\u001b[24;80H\u001b[1;75H8\u001b[4;79H8\u001b[20B\u001b[1;75H9\u001b[4;79H9\u001b[20B\u001b[1;74H50\u001b[4;31H3\u001b[4;43H9\u001b[24;80H\u001b[1;75H1\u001b[24;80H\u001b[1;75H2\u001b[4;30H9\u001b[4;41H29\u001b[33C4990\u001b[20B\u001b[1;75H3\u001b[3B4989\u001b[20B\u001b[1;75H4\u001b[4;30H65\u001b[4;41H327\u001b[32C5018\u001b[20B\u001b[1;75H5\u001b[4;31H3\u001b[4;43H9\u001b[35C9\u001b[20B\u001b[1;75H6\u001b[24;80H\u001b[1;75H7\u001b[4;31H4\u001b[24;80H\u001b[1;75H8\u001b[24;80H\u001b[1;75H9\u001b[4;31H3\u001b[24;80H\u001b[1;72H7:00\u001b[24;80H\u001b[1;75H1\u001b[4;31H4\u001b[4;43H8\u001b[24;80H\u001b[1;75H2\u001b[24;80H\u001b[1;75H3\u001b[4;43H9\u001b[24;80H\u001b[1;75H4\u001b[4;43H8\u001b[24;80H\u001b[1;75H5\u001b[24;80H\u001b[1;75H6\u001b[4;79H8\u001b[20B\u001b[1;75H7\u001b[4;79H9\u001b[20B\u001b[1;75H8\u001b[4;31H3\u001b[4;43H9\u001b[24;80H\u001b[1;75H9\u001b[4;31H4\u001b[4;43H8\u001b[24;80H\u001b[1;74H10\u001b[4;79H8\u001b[20B\u001b[1;75H1\u001b[4;79H9\u001b[20B\u001b[1;75H2\u001b[4;79H8\u001b[20B\u001b[1;75H3\u001b[4;31H5\u001b[4;43H7\u001b[24;80H\u001b[1;75H4\u001b[4;31H4\u001b[4;43H8\u001b[24;80H\u001b[1;75H5\u001b[4;31H6\u001b[4;43H6\u001b[35C7\u001b[20B\u001b[1;75H6\u001b[24;80H\u001b[1;75H7\u001b[4;31H5\u001b[4;43H7\u001b[24;80H\u001b[1;75H8\u001b[24;80H\u001b[1;75H9\u001b[24;80H\u001b[1;74H20\u001b[24;80H\u001b[1;75H1\u001b[24;80H\u001b[1;75H2\u001b[24;80H\u001b[1;75H3\u001b[24;80H\u001b[1;75H4\u001b[24;80H\u001b[1;75H5\u001b[4;31H4\u001b[4;43H8\u001b[35C8\u001b[20B\u001b[1;75H6\u001b[24;80H\u001b[1;75H7\u001b[4;79H9\u001b[20B\u001b[1;75H8\u001b[24;80H\u001b[1;74H30\u001b[4;31H6\u001b[4;43H7\u001b[35C7\u001b[20B\u001b[1;75H1\u001b[4;31H4\u001b[4;43H9\u001b[35C9\u001b[20B\u001b[1;75H2\u001b[4;43H8\u001b[24;80H\u001b[1;75H3\u001b[4;79H8\u001b[20B\u001b[1;75H4\u001b[24;80H\u001b[1;75H5\u001b[4;31H5\u001b[4;43H7\u001b[24;80H\u001b[1;75H6\u001b[24;80H\u001b[1;75H7\u001b[24;80H\u001b[24;1H\u001b[2J\u001b[?47l\u001b8"
     ]
    }
   ],
   "source": [
    "# better to run this in terminal\n",
    "!watch -n 1 free -m"
   ]
  },
  {
   "cell_type": "code",
   "execution_count": 35,
   "metadata": {},
   "outputs": [
    {
     "data": {
      "text/plain": [
       "'GeForce RTX 2080 Ti'"
      ]
     },
     "execution_count": 35,
     "metadata": {},
     "output_type": "execute_result"
    }
   ],
   "source": [
    "# how to check your GPU device names\n",
    "torch.cuda.get_device_name(0)"
   ]
  },
  {
   "cell_type": "code",
   "execution_count": 36,
   "metadata": {},
   "outputs": [
    {
     "name": "stdout",
     "output_type": "stream",
     "text": [
      "Requirement already satisfied: GPUtil in /opt/conda/lib/python3.7/site-packages (1.4.0)\n",
      "\u001b[33mWARNING: You are using pip version 20.1.1; however, version 20.2.3 is available.\n",
      "You should consider upgrading via the '/opt/conda/bin/python3.7 -m pip install --upgrade pip' command.\u001b[0m\n",
      "| ID | GPU | MEM |\n",
      "------------------\n",
      "|  0 |  0% |  0% |\n"
     ]
    }
   ],
   "source": [
    "#Tracking Memory Usage with GPUtil\n",
    "\n",
    "\n",
    "!pip install GPUtil\n",
    "import GPUtil\n",
    "GPUtil.showUtilization()"
   ]
  },
  {
   "cell_type": "code",
   "execution_count": 40,
   "metadata": {},
   "outputs": [
    {
     "name": "stderr",
     "output_type": "stream",
     "text": [
      "\n",
      "\n",
      "\n",
      "  0%|          | 0/17427 [00:00<?, ?it/s]\u001b[A\u001b[A\u001b[A"
     ]
    },
    {
     "ename": "RuntimeError",
     "evalue": "CUDA out of memory. Tried to allocate 16.00 MiB (GPU 0; 10.76 GiB total capacity; 9.99 GiB already allocated; 5.12 MiB free; 9.99 GiB reserved in total by PyTorch)",
     "output_type": "error",
     "traceback": [
      "\u001b[0;31m---------------------------------------------------------------------------\u001b[0m",
      "\u001b[0;31mRuntimeError\u001b[0m                              Traceback (most recent call last)",
      "\u001b[0;32m<ipython-input-40-8f9eb9784be0>\u001b[0m in \u001b[0;36m<module>\u001b[0;34m\u001b[0m\n\u001b[1;32m      6\u001b[0m                       num_workers=4)\n\u001b[1;32m      7\u001b[0m \u001b[0mtrainer\u001b[0m \u001b[0;34m=\u001b[0m \u001b[0mTrainer\u001b[0m\u001b[0;34m(\u001b[0m\u001b[0mmodel\u001b[0m\u001b[0;34m,\u001b[0m \u001b[0mtrain_dataset\u001b[0m\u001b[0;34m,\u001b[0m \u001b[0;32mNone\u001b[0m\u001b[0;34m,\u001b[0m \u001b[0mtconf\u001b[0m\u001b[0;34m)\u001b[0m\u001b[0;34m\u001b[0m\u001b[0;34m\u001b[0m\u001b[0m\n\u001b[0;32m----> 8\u001b[0;31m \u001b[0mtrainer\u001b[0m\u001b[0;34m.\u001b[0m\u001b[0mtrain\u001b[0m\u001b[0;34m(\u001b[0m\u001b[0;34m)\u001b[0m\u001b[0;34m\u001b[0m\u001b[0;34m\u001b[0m\u001b[0m\n\u001b[0m",
      "\u001b[0;32m/opt/models/minGPT-mods/mingpt/trainer.py\u001b[0m in \u001b[0;36mtrain\u001b[0;34m(self)\u001b[0m\n\u001b[1;32m    120\u001b[0m         \u001b[0;32mfor\u001b[0m \u001b[0mepoch\u001b[0m \u001b[0;32min\u001b[0m \u001b[0mrange\u001b[0m\u001b[0;34m(\u001b[0m\u001b[0mconfig\u001b[0m\u001b[0;34m.\u001b[0m\u001b[0mmax_epochs\u001b[0m\u001b[0;34m)\u001b[0m\u001b[0;34m:\u001b[0m\u001b[0;34m\u001b[0m\u001b[0;34m\u001b[0m\u001b[0m\n\u001b[1;32m    121\u001b[0m \u001b[0;34m\u001b[0m\u001b[0m\n\u001b[0;32m--> 122\u001b[0;31m             \u001b[0mrun_epoch\u001b[0m\u001b[0;34m(\u001b[0m\u001b[0;34m'train'\u001b[0m\u001b[0;34m)\u001b[0m\u001b[0;34m\u001b[0m\u001b[0;34m\u001b[0m\u001b[0m\n\u001b[0m\u001b[1;32m    123\u001b[0m             \u001b[0;32mif\u001b[0m \u001b[0mself\u001b[0m\u001b[0;34m.\u001b[0m\u001b[0mtest_dataset\u001b[0m \u001b[0;32mis\u001b[0m \u001b[0;32mnot\u001b[0m \u001b[0;32mNone\u001b[0m\u001b[0;34m:\u001b[0m\u001b[0;34m\u001b[0m\u001b[0;34m\u001b[0m\u001b[0m\n\u001b[1;32m    124\u001b[0m                 \u001b[0mtest_loss\u001b[0m \u001b[0;34m=\u001b[0m \u001b[0mrun_epoch\u001b[0m\u001b[0;34m(\u001b[0m\u001b[0;34m'test'\u001b[0m\u001b[0;34m)\u001b[0m\u001b[0;34m\u001b[0m\u001b[0;34m\u001b[0m\u001b[0m\n",
      "\u001b[0;32m/opt/models/minGPT-mods/mingpt/trainer.py\u001b[0m in \u001b[0;36mrun_epoch\u001b[0;34m(split)\u001b[0m\n\u001b[1;32m     80\u001b[0m                 \u001b[0;31m# forward the model\u001b[0m\u001b[0;34m\u001b[0m\u001b[0;34m\u001b[0m\u001b[0;34m\u001b[0m\u001b[0m\n\u001b[1;32m     81\u001b[0m                 \u001b[0;32mwith\u001b[0m \u001b[0mtorch\u001b[0m\u001b[0;34m.\u001b[0m\u001b[0mset_grad_enabled\u001b[0m\u001b[0;34m(\u001b[0m\u001b[0mis_train\u001b[0m\u001b[0;34m)\u001b[0m\u001b[0;34m:\u001b[0m\u001b[0;34m\u001b[0m\u001b[0;34m\u001b[0m\u001b[0m\n\u001b[0;32m---> 82\u001b[0;31m                     \u001b[0mlogits\u001b[0m\u001b[0;34m,\u001b[0m \u001b[0mloss\u001b[0m \u001b[0;34m=\u001b[0m \u001b[0mmodel\u001b[0m\u001b[0;34m(\u001b[0m\u001b[0mx\u001b[0m\u001b[0;34m,\u001b[0m \u001b[0my\u001b[0m\u001b[0;34m)\u001b[0m\u001b[0;34m\u001b[0m\u001b[0;34m\u001b[0m\u001b[0m\n\u001b[0m\u001b[1;32m     83\u001b[0m                     \u001b[0mloss\u001b[0m \u001b[0;34m=\u001b[0m \u001b[0mloss\u001b[0m\u001b[0;34m.\u001b[0m\u001b[0mmean\u001b[0m\u001b[0;34m(\u001b[0m\u001b[0;34m)\u001b[0m \u001b[0;31m# collapse all losses if they are scattered on multiple gpus\u001b[0m\u001b[0;34m\u001b[0m\u001b[0;34m\u001b[0m\u001b[0m\n\u001b[1;32m     84\u001b[0m                     \u001b[0mlosses\u001b[0m\u001b[0;34m.\u001b[0m\u001b[0mappend\u001b[0m\u001b[0;34m(\u001b[0m\u001b[0mloss\u001b[0m\u001b[0;34m.\u001b[0m\u001b[0mitem\u001b[0m\u001b[0;34m(\u001b[0m\u001b[0;34m)\u001b[0m\u001b[0;34m)\u001b[0m\u001b[0;34m\u001b[0m\u001b[0;34m\u001b[0m\u001b[0m\n",
      "\u001b[0;32m/opt/conda/lib/python3.7/site-packages/torch/nn/modules/module.py\u001b[0m in \u001b[0;36m__call__\u001b[0;34m(self, *input, **kwargs)\u001b[0m\n\u001b[1;32m    548\u001b[0m             \u001b[0mresult\u001b[0m \u001b[0;34m=\u001b[0m \u001b[0mself\u001b[0m\u001b[0;34m.\u001b[0m\u001b[0m_slow_forward\u001b[0m\u001b[0;34m(\u001b[0m\u001b[0;34m*\u001b[0m\u001b[0minput\u001b[0m\u001b[0;34m,\u001b[0m \u001b[0;34m**\u001b[0m\u001b[0mkwargs\u001b[0m\u001b[0;34m)\u001b[0m\u001b[0;34m\u001b[0m\u001b[0;34m\u001b[0m\u001b[0m\n\u001b[1;32m    549\u001b[0m         \u001b[0;32melse\u001b[0m\u001b[0;34m:\u001b[0m\u001b[0;34m\u001b[0m\u001b[0;34m\u001b[0m\u001b[0m\n\u001b[0;32m--> 550\u001b[0;31m             \u001b[0mresult\u001b[0m \u001b[0;34m=\u001b[0m \u001b[0mself\u001b[0m\u001b[0;34m.\u001b[0m\u001b[0mforward\u001b[0m\u001b[0;34m(\u001b[0m\u001b[0;34m*\u001b[0m\u001b[0minput\u001b[0m\u001b[0;34m,\u001b[0m \u001b[0;34m**\u001b[0m\u001b[0mkwargs\u001b[0m\u001b[0;34m)\u001b[0m\u001b[0;34m\u001b[0m\u001b[0;34m\u001b[0m\u001b[0m\n\u001b[0m\u001b[1;32m    551\u001b[0m         \u001b[0;32mfor\u001b[0m \u001b[0mhook\u001b[0m \u001b[0;32min\u001b[0m \u001b[0mself\u001b[0m\u001b[0;34m.\u001b[0m\u001b[0m_forward_hooks\u001b[0m\u001b[0;34m.\u001b[0m\u001b[0mvalues\u001b[0m\u001b[0;34m(\u001b[0m\u001b[0;34m)\u001b[0m\u001b[0;34m:\u001b[0m\u001b[0;34m\u001b[0m\u001b[0;34m\u001b[0m\u001b[0m\n\u001b[1;32m    552\u001b[0m             \u001b[0mhook_result\u001b[0m \u001b[0;34m=\u001b[0m \u001b[0mhook\u001b[0m\u001b[0;34m(\u001b[0m\u001b[0mself\u001b[0m\u001b[0;34m,\u001b[0m \u001b[0minput\u001b[0m\u001b[0;34m,\u001b[0m \u001b[0mresult\u001b[0m\u001b[0;34m)\u001b[0m\u001b[0;34m\u001b[0m\u001b[0;34m\u001b[0m\u001b[0m\n",
      "\u001b[0;32m/opt/conda/lib/python3.7/site-packages/torch/nn/parallel/data_parallel.py\u001b[0m in \u001b[0;36mforward\u001b[0;34m(self, *inputs, **kwargs)\u001b[0m\n\u001b[1;32m    151\u001b[0m         \u001b[0minputs\u001b[0m\u001b[0;34m,\u001b[0m \u001b[0mkwargs\u001b[0m \u001b[0;34m=\u001b[0m \u001b[0mself\u001b[0m\u001b[0;34m.\u001b[0m\u001b[0mscatter\u001b[0m\u001b[0;34m(\u001b[0m\u001b[0minputs\u001b[0m\u001b[0;34m,\u001b[0m \u001b[0mkwargs\u001b[0m\u001b[0;34m,\u001b[0m \u001b[0mself\u001b[0m\u001b[0;34m.\u001b[0m\u001b[0mdevice_ids\u001b[0m\u001b[0;34m)\u001b[0m\u001b[0;34m\u001b[0m\u001b[0;34m\u001b[0m\u001b[0m\n\u001b[1;32m    152\u001b[0m         \u001b[0;32mif\u001b[0m \u001b[0mlen\u001b[0m\u001b[0;34m(\u001b[0m\u001b[0mself\u001b[0m\u001b[0;34m.\u001b[0m\u001b[0mdevice_ids\u001b[0m\u001b[0;34m)\u001b[0m \u001b[0;34m==\u001b[0m \u001b[0;36m1\u001b[0m\u001b[0;34m:\u001b[0m\u001b[0;34m\u001b[0m\u001b[0;34m\u001b[0m\u001b[0m\n\u001b[0;32m--> 153\u001b[0;31m             \u001b[0;32mreturn\u001b[0m \u001b[0mself\u001b[0m\u001b[0;34m.\u001b[0m\u001b[0mmodule\u001b[0m\u001b[0;34m(\u001b[0m\u001b[0;34m*\u001b[0m\u001b[0minputs\u001b[0m\u001b[0;34m[\u001b[0m\u001b[0;36m0\u001b[0m\u001b[0;34m]\u001b[0m\u001b[0;34m,\u001b[0m \u001b[0;34m**\u001b[0m\u001b[0mkwargs\u001b[0m\u001b[0;34m[\u001b[0m\u001b[0;36m0\u001b[0m\u001b[0;34m]\u001b[0m\u001b[0;34m)\u001b[0m\u001b[0;34m\u001b[0m\u001b[0;34m\u001b[0m\u001b[0m\n\u001b[0m\u001b[1;32m    154\u001b[0m         \u001b[0mreplicas\u001b[0m \u001b[0;34m=\u001b[0m \u001b[0mself\u001b[0m\u001b[0;34m.\u001b[0m\u001b[0mreplicate\u001b[0m\u001b[0;34m(\u001b[0m\u001b[0mself\u001b[0m\u001b[0;34m.\u001b[0m\u001b[0mmodule\u001b[0m\u001b[0;34m,\u001b[0m \u001b[0mself\u001b[0m\u001b[0;34m.\u001b[0m\u001b[0mdevice_ids\u001b[0m\u001b[0;34m[\u001b[0m\u001b[0;34m:\u001b[0m\u001b[0mlen\u001b[0m\u001b[0;34m(\u001b[0m\u001b[0minputs\u001b[0m\u001b[0;34m)\u001b[0m\u001b[0;34m]\u001b[0m\u001b[0;34m)\u001b[0m\u001b[0;34m\u001b[0m\u001b[0;34m\u001b[0m\u001b[0m\n\u001b[1;32m    155\u001b[0m         \u001b[0moutputs\u001b[0m \u001b[0;34m=\u001b[0m \u001b[0mself\u001b[0m\u001b[0;34m.\u001b[0m\u001b[0mparallel_apply\u001b[0m\u001b[0;34m(\u001b[0m\u001b[0mreplicas\u001b[0m\u001b[0;34m,\u001b[0m \u001b[0minputs\u001b[0m\u001b[0;34m,\u001b[0m \u001b[0mkwargs\u001b[0m\u001b[0;34m)\u001b[0m\u001b[0;34m\u001b[0m\u001b[0;34m\u001b[0m\u001b[0m\n",
      "\u001b[0;32m/opt/conda/lib/python3.7/site-packages/torch/nn/modules/module.py\u001b[0m in \u001b[0;36m__call__\u001b[0;34m(self, *input, **kwargs)\u001b[0m\n\u001b[1;32m    548\u001b[0m             \u001b[0mresult\u001b[0m \u001b[0;34m=\u001b[0m \u001b[0mself\u001b[0m\u001b[0;34m.\u001b[0m\u001b[0m_slow_forward\u001b[0m\u001b[0;34m(\u001b[0m\u001b[0;34m*\u001b[0m\u001b[0minput\u001b[0m\u001b[0;34m,\u001b[0m \u001b[0;34m**\u001b[0m\u001b[0mkwargs\u001b[0m\u001b[0;34m)\u001b[0m\u001b[0;34m\u001b[0m\u001b[0;34m\u001b[0m\u001b[0m\n\u001b[1;32m    549\u001b[0m         \u001b[0;32melse\u001b[0m\u001b[0;34m:\u001b[0m\u001b[0;34m\u001b[0m\u001b[0;34m\u001b[0m\u001b[0m\n\u001b[0;32m--> 550\u001b[0;31m             \u001b[0mresult\u001b[0m \u001b[0;34m=\u001b[0m \u001b[0mself\u001b[0m\u001b[0;34m.\u001b[0m\u001b[0mforward\u001b[0m\u001b[0;34m(\u001b[0m\u001b[0;34m*\u001b[0m\u001b[0minput\u001b[0m\u001b[0;34m,\u001b[0m \u001b[0;34m**\u001b[0m\u001b[0mkwargs\u001b[0m\u001b[0;34m)\u001b[0m\u001b[0;34m\u001b[0m\u001b[0;34m\u001b[0m\u001b[0m\n\u001b[0m\u001b[1;32m    551\u001b[0m         \u001b[0;32mfor\u001b[0m \u001b[0mhook\u001b[0m \u001b[0;32min\u001b[0m \u001b[0mself\u001b[0m\u001b[0;34m.\u001b[0m\u001b[0m_forward_hooks\u001b[0m\u001b[0;34m.\u001b[0m\u001b[0mvalues\u001b[0m\u001b[0;34m(\u001b[0m\u001b[0;34m)\u001b[0m\u001b[0;34m:\u001b[0m\u001b[0;34m\u001b[0m\u001b[0;34m\u001b[0m\u001b[0m\n\u001b[1;32m    552\u001b[0m             \u001b[0mhook_result\u001b[0m \u001b[0;34m=\u001b[0m \u001b[0mhook\u001b[0m\u001b[0;34m(\u001b[0m\u001b[0mself\u001b[0m\u001b[0;34m,\u001b[0m \u001b[0minput\u001b[0m\u001b[0;34m,\u001b[0m \u001b[0mresult\u001b[0m\u001b[0;34m)\u001b[0m\u001b[0;34m\u001b[0m\u001b[0;34m\u001b[0m\u001b[0m\n",
      "\u001b[0;32m/opt/models/minGPT-mods/mingpt/model.py\u001b[0m in \u001b[0;36mforward\u001b[0;34m(self, idx, targets)\u001b[0m\n\u001b[1;32m    185\u001b[0m         \u001b[0mtoken_embeddings\u001b[0m \u001b[0;34m=\u001b[0m \u001b[0mself\u001b[0m\u001b[0;34m.\u001b[0m\u001b[0mtok_emb\u001b[0m\u001b[0;34m(\u001b[0m\u001b[0midx\u001b[0m\u001b[0;34m)\u001b[0m \u001b[0;31m# each index maps to a (learnable) vector\u001b[0m\u001b[0;34m\u001b[0m\u001b[0;34m\u001b[0m\u001b[0m\n\u001b[1;32m    186\u001b[0m         \u001b[0mposition_embeddings\u001b[0m \u001b[0;34m=\u001b[0m \u001b[0mself\u001b[0m\u001b[0;34m.\u001b[0m\u001b[0mpos_emb\u001b[0m\u001b[0;34m[\u001b[0m\u001b[0;34m:\u001b[0m\u001b[0;34m,\u001b[0m \u001b[0;34m:\u001b[0m\u001b[0mt\u001b[0m\u001b[0;34m,\u001b[0m \u001b[0;34m:\u001b[0m\u001b[0;34m]\u001b[0m \u001b[0;31m# each position maps to a (learnable) vector\u001b[0m\u001b[0;34m\u001b[0m\u001b[0;34m\u001b[0m\u001b[0m\n\u001b[0;32m--> 187\u001b[0;31m         \u001b[0mx\u001b[0m \u001b[0;34m=\u001b[0m \u001b[0mself\u001b[0m\u001b[0;34m.\u001b[0m\u001b[0mdrop\u001b[0m\u001b[0;34m(\u001b[0m\u001b[0mtoken_embeddings\u001b[0m \u001b[0;34m+\u001b[0m \u001b[0mposition_embeddings\u001b[0m\u001b[0;34m)\u001b[0m\u001b[0;34m\u001b[0m\u001b[0;34m\u001b[0m\u001b[0m\n\u001b[0m\u001b[1;32m    188\u001b[0m         \u001b[0mx\u001b[0m \u001b[0;34m=\u001b[0m \u001b[0mself\u001b[0m\u001b[0;34m.\u001b[0m\u001b[0mblocks\u001b[0m\u001b[0;34m(\u001b[0m\u001b[0mx\u001b[0m\u001b[0;34m)\u001b[0m\u001b[0;34m\u001b[0m\u001b[0;34m\u001b[0m\u001b[0m\n\u001b[1;32m    189\u001b[0m         \u001b[0mx\u001b[0m \u001b[0;34m=\u001b[0m \u001b[0mself\u001b[0m\u001b[0;34m.\u001b[0m\u001b[0mln_f\u001b[0m\u001b[0;34m(\u001b[0m\u001b[0mx\u001b[0m\u001b[0;34m)\u001b[0m\u001b[0;34m\u001b[0m\u001b[0;34m\u001b[0m\u001b[0m\n",
      "\u001b[0;32m/opt/conda/lib/python3.7/site-packages/torch/nn/modules/module.py\u001b[0m in \u001b[0;36m__call__\u001b[0;34m(self, *input, **kwargs)\u001b[0m\n\u001b[1;32m    548\u001b[0m             \u001b[0mresult\u001b[0m \u001b[0;34m=\u001b[0m \u001b[0mself\u001b[0m\u001b[0;34m.\u001b[0m\u001b[0m_slow_forward\u001b[0m\u001b[0;34m(\u001b[0m\u001b[0;34m*\u001b[0m\u001b[0minput\u001b[0m\u001b[0;34m,\u001b[0m \u001b[0;34m**\u001b[0m\u001b[0mkwargs\u001b[0m\u001b[0;34m)\u001b[0m\u001b[0;34m\u001b[0m\u001b[0;34m\u001b[0m\u001b[0m\n\u001b[1;32m    549\u001b[0m         \u001b[0;32melse\u001b[0m\u001b[0;34m:\u001b[0m\u001b[0;34m\u001b[0m\u001b[0;34m\u001b[0m\u001b[0m\n\u001b[0;32m--> 550\u001b[0;31m             \u001b[0mresult\u001b[0m \u001b[0;34m=\u001b[0m \u001b[0mself\u001b[0m\u001b[0;34m.\u001b[0m\u001b[0mforward\u001b[0m\u001b[0;34m(\u001b[0m\u001b[0;34m*\u001b[0m\u001b[0minput\u001b[0m\u001b[0;34m,\u001b[0m \u001b[0;34m**\u001b[0m\u001b[0mkwargs\u001b[0m\u001b[0;34m)\u001b[0m\u001b[0;34m\u001b[0m\u001b[0;34m\u001b[0m\u001b[0m\n\u001b[0m\u001b[1;32m    551\u001b[0m         \u001b[0;32mfor\u001b[0m \u001b[0mhook\u001b[0m \u001b[0;32min\u001b[0m \u001b[0mself\u001b[0m\u001b[0;34m.\u001b[0m\u001b[0m_forward_hooks\u001b[0m\u001b[0;34m.\u001b[0m\u001b[0mvalues\u001b[0m\u001b[0;34m(\u001b[0m\u001b[0;34m)\u001b[0m\u001b[0;34m:\u001b[0m\u001b[0;34m\u001b[0m\u001b[0;34m\u001b[0m\u001b[0m\n\u001b[1;32m    552\u001b[0m             \u001b[0mhook_result\u001b[0m \u001b[0;34m=\u001b[0m \u001b[0mhook\u001b[0m\u001b[0;34m(\u001b[0m\u001b[0mself\u001b[0m\u001b[0;34m,\u001b[0m \u001b[0minput\u001b[0m\u001b[0;34m,\u001b[0m \u001b[0mresult\u001b[0m\u001b[0;34m)\u001b[0m\u001b[0;34m\u001b[0m\u001b[0;34m\u001b[0m\u001b[0m\n",
      "\u001b[0;32m/opt/conda/lib/python3.7/site-packages/torch/nn/modules/dropout.py\u001b[0m in \u001b[0;36mforward\u001b[0;34m(self, input)\u001b[0m\n\u001b[1;32m     52\u001b[0m \u001b[0;34m\u001b[0m\u001b[0m\n\u001b[1;32m     53\u001b[0m     \u001b[0;32mdef\u001b[0m \u001b[0mforward\u001b[0m\u001b[0;34m(\u001b[0m\u001b[0mself\u001b[0m\u001b[0;34m,\u001b[0m \u001b[0minput\u001b[0m\u001b[0;34m)\u001b[0m\u001b[0;34m:\u001b[0m\u001b[0;34m\u001b[0m\u001b[0;34m\u001b[0m\u001b[0m\n\u001b[0;32m---> 54\u001b[0;31m         \u001b[0;32mreturn\u001b[0m \u001b[0mF\u001b[0m\u001b[0;34m.\u001b[0m\u001b[0mdropout\u001b[0m\u001b[0;34m(\u001b[0m\u001b[0minput\u001b[0m\u001b[0;34m,\u001b[0m \u001b[0mself\u001b[0m\u001b[0;34m.\u001b[0m\u001b[0mp\u001b[0m\u001b[0;34m,\u001b[0m \u001b[0mself\u001b[0m\u001b[0;34m.\u001b[0m\u001b[0mtraining\u001b[0m\u001b[0;34m,\u001b[0m \u001b[0mself\u001b[0m\u001b[0;34m.\u001b[0m\u001b[0minplace\u001b[0m\u001b[0;34m)\u001b[0m\u001b[0;34m\u001b[0m\u001b[0;34m\u001b[0m\u001b[0m\n\u001b[0m\u001b[1;32m     55\u001b[0m \u001b[0;34m\u001b[0m\u001b[0m\n\u001b[1;32m     56\u001b[0m \u001b[0;34m\u001b[0m\u001b[0m\n",
      "\u001b[0;32m/opt/conda/lib/python3.7/site-packages/torch/nn/functional.py\u001b[0m in \u001b[0;36mdropout\u001b[0;34m(input, p, training, inplace)\u001b[0m\n\u001b[1;32m    934\u001b[0m     return (_VF.dropout_(input, p, training)\n\u001b[1;32m    935\u001b[0m             \u001b[0;32mif\u001b[0m \u001b[0minplace\u001b[0m\u001b[0;34m\u001b[0m\u001b[0;34m\u001b[0m\u001b[0m\n\u001b[0;32m--> 936\u001b[0;31m             else _VF.dropout(input, p, training))\n\u001b[0m\u001b[1;32m    937\u001b[0m \u001b[0;34m\u001b[0m\u001b[0m\n\u001b[1;32m    938\u001b[0m \u001b[0;34m\u001b[0m\u001b[0m\n",
      "\u001b[0;31mRuntimeError\u001b[0m: CUDA out of memory. Tried to allocate 16.00 MiB (GPU 0; 10.76 GiB total capacity; 9.99 GiB already allocated; 5.12 MiB free; 9.99 GiB reserved in total by PyTorch)"
     ]
    }
   ],
   "source": [
    "from mingpt.trainer import Trainer, TrainerConfig\n",
    "\n",
    "# initialize a trainer instance and kick off training\n",
    "tconf = TrainerConfig(max_epochs=1, batch_size=64, learning_rate=6e-4,\n",
    "                      lr_decay=True, warmup_tokens=512*20, final_tokens=2*len(train_dataset)*block_size,\n",
    "                      num_workers=4)\n",
    "trainer = Trainer(model, train_dataset, None, tconf)\n",
    "trainer.train()"
   ]
  },
  {
   "cell_type": "markdown",
   "metadata": {},
   "source": [
    "## GPU Type and number of instances - \n",
    "### 'GeForce RTX 2080 Ti' - 1 instance - batch size 512\n",
    "#### CUDA OOM; Tried to allocate 256.00 MiB (GPU 0; 10.76 GiB total capacity; 9.76 GiB already allocated; 135.12 MiB free; 9.87 GiB reserved in total by PyTorch)\n",
    "\n",
    "### 'GeForce RTX 2080 Ti' - 1 instance - batch size 256\n",
    "#### CUDA out of memory. Tried to allocate 64.00 MiB (GPU 0; 10.76 GiB total capacity; 9.96 GiB already allocated; 5.12 MiB free; 9.99 GiB reserved in total by PyTorch)\n",
    "\n",
    "### 'GeForce RTX 2080 Ti' - 1 instance - batch size 128\n",
    "#### CUDA out of memory. Tried to allocate 20.00 MiB (GPU 0; 10.76 GiB total capacity; 9.99 GiB already allocated; 5.12 MiB free; 9.99 GiB reserved in total by PyTorch)\n"
   ]
  },
  {
   "cell_type": "code",
   "execution_count": 10,
   "metadata": {},
   "outputs": [
    {
     "name": "stdout",
     "output_type": "stream",
     "text": [
      "O God, O God! that e'er this tongue of mine,\n",
      "That laid the sentence of dread banishment\n",
      "On yon proud man, should take it off again\n",
      "With words of sooth! O that I were as great\n",
      "As is my grief, or lesser than my name!\n",
      "Or that I could forget\n",
      "With Richmond, I'll tell you what I am,\n",
      "The Lord Aumerle, .\n",
      "\n",
      "CLAUDIO:\n",
      "The prenzie Angelo!\n",
      "\n",
      "ISABELLA:\n",
      "O, 'tis the cunning livery of hell,\n",
      "The damned'st body to invest and cover\n",
      "In prenzie guards! Dost thou think, Claudio?\n",
      "If I would yield him my virginity,\n",
      "Thou mightst be freed.\n",
      "\n",
      "CLAUDIO:\n",
      "O heavens! it cannot be.\n",
      "\n",
      "ISABELLA:\n",
      "Yes, he would give't thee, from this rank offence,\n",
      "So to offend him still. This night's the time\n",
      "That I should do what I abhor to name,\n",
      "Or else thou diest to-morrow.\n",
      "\n",
      "CLAUDIO:\n",
      "Thou shalt not do't.\n",
      "\n",
      "ISABELLA:\n",
      "O, were it but my life,\n",
      "I'ld throw it down for your deliverance\n",
      "As frankly as a pin.\n",
      "\n",
      "CLAUDIO:\n",
      "Thanks, dear Isabel.\n",
      "\n",
      "ISABELLA:\n",
      "Be ready, Claudio, for your death tomorrow.\n",
      "\n",
      "CLAUDIO:\n",
      "Yes. Has he affections\n",
      "That profit us.\n",
      "\n",
      "DUKE VINCENTIO:\n",
      "By the world they see the word in 's doom.\n",
      "\n",
      "ANGELO:\n",
      "Thou art the like, thus hate the course in heaven.\n",
      "What foul hath bled the wheel or at wild,\n",
      "And wash him fresh again with true-love tears.\n",
      "Ah, thou, the model where old Troy did stand,\n",
      "Thou map of honour, thou King Richard's tomb,\n",
      "And not King Richard; thou most beauteous inn,\n",
      "Why should hard-favour'd grief be lodged in thee,\n",
      "When triumph is become an alehouse guest?\n",
      "\n",
      "KING RICHARD II:\n",
      "Join not with grief, fair woman, do not so,\n",
      "To make my end too sudden: learn, good soul,\n",
      "To think our former state a happy dream;\n",
      "From which awaked, the truth of what we are\n",
      "Shows us but this: I am sworn brother, sweet,\n",
      "To grim Necessity, and he and I\n",
      "Will keep a league till death. Hie thee to France\n",
      "And cloister thee in some religious house:\n",
      "Our holy lives must win a new world's crown,\n",
      "Which our profane hours here have stricken down.\n",
      "\n",
      "QUEEN:\n",
      "What, is my Richard both in shape and mind\n",
      "Transform'd and weaken'd? hath Bolingbroke deposed\n",
      "Thine intellect? hath h\n"
     ]
    }
   ],
   "source": [
    "# alright, let's sample some character-level Shakespeare\n",
    "from mingpt.utils import sample\n",
    "\n",
    "context = \"O God, O God!\"\n",
    "x = torch.tensor([train_dataset.stoi[s] for s in context], dtype=torch.long)[None,...].to(trainer.device)\n",
    "y = sample(model, x, 2000, temperature=1.0, sample=True, top_k=10)[0]\n",
    "completion = ''.join([train_dataset.itos[int(i)] for i in y])\n",
    "print(completion)"
   ]
  },
  {
   "cell_type": "code",
   "execution_count": null,
   "metadata": {},
   "outputs": [],
   "source": [
    "# well that was fun"
   ]
  },
  {
   "cell_type": "markdown",
   "metadata": {},
   "source": [
    "# Final Comments \n",
    "\n",
    "### * You will notice that Python created folders with __pycache__ and also files with .pyc or .pyo extension. These are bytecode-compiled and optimized bytecode-compiled versions of your program's files, respectively. They make your program start a little faster. When your scripts change, they will be recompiled, and if you delete the files or the whole folder and run your program again, they will reappear (unless you specifically suppress that behavior). Just put them in your gitignore\n"
   ]
  },
  {
   "cell_type": "code",
   "execution_count": null,
   "metadata": {},
   "outputs": [],
   "source": []
  }
 ],
 "metadata": {
  "kernelspec": {
   "display_name": "Python 3",
   "language": "python",
   "name": "python3"
  },
  "language_info": {
   "codemirror_mode": {
    "name": "ipython",
    "version": 3
   },
   "file_extension": ".py",
   "mimetype": "text/x-python",
   "name": "python",
   "nbconvert_exporter": "python",
   "pygments_lexer": "ipython3",
   "version": "3.7.6"
  }
 },
 "nbformat": 4,
 "nbformat_minor": 4
}
