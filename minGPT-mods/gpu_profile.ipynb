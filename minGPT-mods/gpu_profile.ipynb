{
 "cells": [
  {
   "cell_type": "code",
   "execution_count": 9,
   "metadata": {},
   "outputs": [],
   "source": [
    "import os\n",
    "import gc\n",
    "import torch\n",
    "import datetime\n",
    "\n",
    "from py3nvml import py3nvml\n",
    "\n",
    "PRINT_TENSOR_SIZES = True\n",
    "# clears GPU cache frequently, showing only actual memory usage\n",
    "EMPTY_CACHE = True\n",
    "gpu_profile_fn = (f\"{datetime.datetime.now():%d-%b-%y-%H:%M:%S}\"\n",
    "                  f\"-gpu_mem_prof.txt\")\n",
    "if 'GPU_DEBUG' in os.environ:\n",
    "    print('profiling gpu usage to ', gpu_profile_fn)\n",
    "\n",
    "_last_tensor_sizes = set()\n",
    "\n",
    "\n",
    "def _trace_lines(frame, event, arg):\n",
    "    if event != 'line':\n",
    "        return\n",
    "    if EMPTY_CACHE:\n",
    "        torch.cuda.empty_cache()\n",
    "    co = frame.f_code\n",
    "    func_name = co.co_name\n",
    "    line_no = frame.f_lineno\n",
    "    filename = co.co_filename\n",
    "    py3nvml.nvmlInit()\n",
    "    mem_used = _get_gpu_mem_used()\n",
    "    where_str = f\"{func_name} in {filename}:{line_no}\"\n",
    "    with open(gpu_profile_fn, 'a+') as f:\n",
    "        f.write(f\"{where_str} --> {mem_used:<7.1f}Mb\\n\")\n",
    "        if PRINT_TENSOR_SIZES:\n",
    "            _print_tensors(f, where_str)\n",
    "\n",
    "    py3nvml.nvmlShutdown()\n",
    "\n",
    "\n",
    "def trace_calls(frame, event, arg):\n",
    "    if event != 'call':\n",
    "        return\n",
    "    co = frame.f_code\n",
    "    func_name = co.co_name\n",
    "\n",
    "    try:\n",
    "        trace_into = str(os.environ['TRACE_INTO'])\n",
    "    except:\n",
    "        print(os.environ)\n",
    "        exit()\n",
    "    if func_name in trace_into.split(' '):\n",
    "        return _trace_lines\n",
    "    return\n",
    "\n",
    "\n",
    "def _get_gpu_mem_used():\n",
    "    handle = py3nvml.nvmlDeviceGetHandleByIndex(\n",
    "        int(os.environ['GPU_DEBUG']))\n",
    "    meminfo = py3nvml.nvmlDeviceGetMemoryInfo(handle)\n",
    "    return meminfo.used/1024**2\n",
    "\n",
    "\n",
    "def _print_tensors(f, where_str):\n",
    "    global _last_tensor_sizes\n",
    "    for tensor in _get_tensors():\n",
    "        if not hasattr(tensor, 'dbg_alloc_where'):\n",
    "            tensor.dbg_alloc_where = where_str\n",
    "    new_tensor_sizes = {(x.type(), tuple(x.shape), x.dbg_alloc_where)\n",
    "                        for x in _get_tensors()}\n",
    "    for t, s, loc in new_tensor_sizes - _last_tensor_sizes:\n",
    "        f.write(f'+ {loc:<50} {str(s):<20} {str(t):<10}\\n')\n",
    "    for t, s, loc in _last_tensor_sizes - new_tensor_sizes:\n",
    "        f.write(f'- {loc:<50} {str(s):<20} {str(t):<10}\\n')\n",
    "    _last_tensor_sizes = new_tensor_sizes\n",
    "\n",
    "\n",
    "def _get_tensors(gpu_only=True):\n",
    "    for obj in gc.get_objects():\n",
    "        try:\n",
    "            if torch.is_tensor(obj):\n",
    "                tensor = obj\n",
    "            elif hasattr(obj, 'data') and torch.is_tensor(obj.data):\n",
    "                tensor = obj.data\n",
    "            else:\n",
    "                continue\n",
    "\n",
    "            if tensor.is_cuda:\n",
    "                yield tensor\n",
    "        except Exception as e:\n",
    "            pass"
   ]
  },
  {
   "cell_type": "code",
   "execution_count": 10,
   "metadata": {},
   "outputs": [
    {
     "ename": "ModuleNotFoundError",
     "evalue": "No module named 'gpu_profile'",
     "output_type": "error",
     "traceback": [
      "\u001b[0;31m---------------------------------------------------------------------------\u001b[0m",
      "\u001b[0;31mModuleNotFoundError\u001b[0m                       Traceback (most recent call last)",
      "\u001b[0;32m<ipython-input-10-39ba3fbb09dc>\u001b[0m in \u001b[0;36m<module>\u001b[0;34m\u001b[0m\n\u001b[1;32m      1\u001b[0m \u001b[0;32mimport\u001b[0m \u001b[0msys\u001b[0m\u001b[0;34m\u001b[0m\u001b[0;34m\u001b[0m\u001b[0m\n\u001b[0;32m----> 2\u001b[0;31m \u001b[0;32mfrom\u001b[0m \u001b[0mgpu_profile\u001b[0m \u001b[0;32mimport\u001b[0m \u001b[0mtrace_calls\u001b[0m\u001b[0;34m\u001b[0m\u001b[0;34m\u001b[0m\u001b[0m\n\u001b[0m\u001b[1;32m      3\u001b[0m \u001b[0mos\u001b[0m\u001b[0;34m.\u001b[0m\u001b[0menviron\u001b[0m\u001b[0;34m[\u001b[0m\u001b[0;34m'GPU_DEBUG'\u001b[0m\u001b[0;34m]\u001b[0m \u001b[0;34m=\u001b[0m \u001b[0margs\u001b[0m\u001b[0;34m.\u001b[0m\u001b[0mdev\u001b[0m\u001b[0;34m\u001b[0m\u001b[0;34m\u001b[0m\u001b[0m\n\u001b[1;32m      4\u001b[0m \u001b[0mos\u001b[0m\u001b[0;34m.\u001b[0m\u001b[0menviron\u001b[0m\u001b[0;34m[\u001b[0m\u001b[0;34m'TRACE_INTO'\u001b[0m\u001b[0;34m]\u001b[0m \u001b[0;34m=\u001b[0m \u001b[0;34m'train_epoch'\u001b[0m\u001b[0;34m\u001b[0m\u001b[0;34m\u001b[0m\u001b[0m\n\u001b[1;32m      5\u001b[0m \u001b[0msys\u001b[0m\u001b[0;34m.\u001b[0m\u001b[0msettrace\u001b[0m\u001b[0;34m(\u001b[0m\u001b[0mtrace_calls\u001b[0m\u001b[0;34m)\u001b[0m\u001b[0;34m\u001b[0m\u001b[0;34m\u001b[0m\u001b[0m\n",
      "\u001b[0;31mModuleNotFoundError\u001b[0m: No module named 'gpu_profile'"
     ]
    }
   ],
   "source": [
    "import sys\n",
    "from gpu_profile import trace_calls\n",
    "os.environ['GPU_DEBUG'] = args.dev\n",
    "os.environ['TRACE_INTO'] = 'train_epoch'\n",
    "sys.settrace(trace_calls)"
   ]
  },
  {
   "cell_type": "code",
   "execution_count": 4,
   "metadata": {},
   "outputs": [
    {
     "data": {
      "text/plain": [
       "<generator object get_tensors at 0x7fa567cbdad0>"
      ]
     },
     "execution_count": 4,
     "metadata": {},
     "output_type": "execute_result"
    }
   ],
   "source": [
    "get_tensors(gpu_only=True)"
   ]
  },
  {
   "cell_type": "code",
   "execution_count": 2,
   "metadata": {},
   "outputs": [
    {
     "name": "stdout",
     "output_type": "stream",
     "text": [
      "Collecting py3nvml\n",
      "  Downloading py3nvml-0.2.6-py3-none-any.whl (55 kB)\n",
      "\u001b[K     |████████████████████████████████| 55 kB 3.3 MB/s  eta 0:00:01\n",
      "\u001b[?25hCollecting xmltodict\n",
      "  Downloading xmltodict-0.12.0-py2.py3-none-any.whl (9.2 kB)\n",
      "Installing collected packages: xmltodict, py3nvml\n",
      "Successfully installed py3nvml-0.2.6 xmltodict-0.12.0\n",
      "\u001b[33mWARNING: You are using pip version 20.1.1; however, version 20.2.3 is available.\n",
      "You should consider upgrading via the '/opt/conda/bin/python3.7 -m pip install --upgrade pip' command.\u001b[0m\n"
     ]
    }
   ],
   "source": [
    "!pip install py3nvml"
   ]
  },
  {
   "cell_type": "code",
   "execution_count": null,
   "metadata": {},
   "outputs": [],
   "source": []
  }
 ],
 "metadata": {
  "kernelspec": {
   "display_name": "Python 3",
   "language": "python",
   "name": "python3"
  },
  "language_info": {
   "codemirror_mode": {
    "name": "ipython",
    "version": 3
   },
   "file_extension": ".py",
   "mimetype": "text/x-python",
   "name": "python",
   "nbconvert_exporter": "python",
   "pygments_lexer": "ipython3",
   "version": "3.7.6"
  }
 },
 "nbformat": 4,
 "nbformat_minor": 4
}
